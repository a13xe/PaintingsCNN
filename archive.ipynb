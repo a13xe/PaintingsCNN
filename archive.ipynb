{
 "cells": [
  {
   "cell_type": "markdown",
   "metadata": {},
   "source": [
    "# rename"
   ]
  },
  {
   "cell_type": "code",
   "execution_count": null,
   "metadata": {},
   "outputs": [],
   "source": [
    "# Сначала прочитаем содержимое загруженного CSV файла, чтобы понять его структуру\n",
    "import pandas as pd\n",
    "\n",
    "# Загрузка данных из CSV файла\n",
    "file_path = 'data/bob_ross_paintings.csv'\n",
    "data = pd.read_csv(file_path)\n",
    "\n",
    "# Выведем первые несколько строк, чтобы понять структуру данных\n",
    "data.head()\n",
    "# Создадим словарь для сопоставления имен файлов и названий картин\n",
    "rename_dict = {}\n",
    "\n",
    "for index, row in data.iterrows():\n",
    "    # Извлекаем имя файла из URL\n",
    "    original_name = row['img_src'].split('/')[-1].replace('.png', '')\n",
    "    # Название картины для нового имени файла\n",
    "    new_name = row['painting_title']\n",
    "    # Добавляем в словарь\n",
    "    rename_dict[original_name] = new_name\n",
    "\n",
    "# Выведем первые несколько элементов словаря, чтобы убедиться, что он создан корректно\n",
    "list(rename_dict.items())[:5]\n",
    "import os\n",
    "\n",
    "# Путь к папке с изображениями\n",
    "directory = 'data/train'\n",
    "\n",
    "# Перебираем файлы в папке\n",
    "for filename in os.listdir(directory):\n",
    "    # Удаляем расширение файла для сопоставления с ключом в словаре\n",
    "    file_base_name = filename.replace('.png', '')\n",
    "    \n",
    "    # Проверяем, есть ли файл в словаре для переименования\n",
    "    if file_base_name in rename_dict:\n",
    "        # Создаем новое имя файла, добавляя расширение .png\n",
    "        new_filename = rename_dict[file_base_name] + '.png'\n",
    "        \n",
    "        # Полные пути к исходному и новому файлу\n",
    "        original_file_path = os.path.join(directory, filename)\n",
    "        new_file_path = os.path.join(directory, new_filename)\n",
    "        \n",
    "        # Переименовываем файл\n",
    "        os.rename(original_file_path, new_file_path)\n",
    "        print(f\"Файл {filename} переименован в {new_filename}\")\n",
    "    else:\n",
    "        print(f\"Файл {filename} не найден в словаре и не был переименован.\")\n",
    "\n",
    "print(\"Переименование файлов завершено.\")\n"
   ]
  },
  {
   "cell_type": "markdown",
   "metadata": {},
   "source": [
    "# split dataset"
   ]
  },
  {
   "cell_type": "code",
   "execution_count": 1,
   "metadata": {},
   "outputs": [
    {
     "data": {
      "text/plain": [
       "(40,\n",
       " ['Secluded Mountain.png',\n",
       "  'Half-Oval Vignette.png',\n",
       "  \"Woodman's Retreat.png\",\n",
       "  'Mountain Oval.png',\n",
       "  'Meadow Stream.png',\n",
       "  'Golden Mist Oval.png',\n",
       "  'Christmas Eve Snow.png',\n",
       "  \"Nature's Splendor.png\",\n",
       "  'Mountains of Grace.png',\n",
       "  'Splendor of Winter.png',\n",
       "  'Ebony Sunset.png',\n",
       "  'Babbling Brook.png',\n",
       "  'Winter Hideaway.png',\n",
       "  'Black Waterfall.png',\n",
       "  'Countryside Oval.png',\n",
       "  'Surprising Falls.png',\n",
       "  'Ebony Sea.png',\n",
       "  'Majestic Peaks.png',\n",
       "  'Glacier Lake.png',\n",
       "  'Forest Edge.png',\n",
       "  'Mt. McKinley.png',\n",
       "  'Ebb Tide.png',\n",
       "  \"A Mild Winter's Day.png\",\n",
       "  'Tranquil Valley.png',\n",
       "  'The Windmill.png',\n",
       "  'Purple Haze.png',\n",
       "  'Bubbling Stream.png',\n",
       "  'Tropical Seascape.png',\n",
       "  'Wooded Stream Oval.png',\n",
       "  'Cabin in the Hollow.png',\n",
       "  'Winter Cabin.png',\n",
       "  'Waves of Wonder.png',\n",
       "  \"Florida's Glory.png\",\n",
       "  'Horizons West.png',\n",
       "  'Storm on the Horizon.png',\n",
       "  'Meadow Road.png',\n",
       "  'Peaceful Valley.png',\n",
       "  'Daybreak.png',\n",
       "  'The Old Oak Tree.png',\n",
       "  'Silent Forest.png'])"
      ]
     },
     "execution_count": 1,
     "metadata": {},
     "output_type": "execute_result"
    }
   ],
   "source": [
    "import os\n",
    "import shutil\n",
    "from random import sample\n",
    "\n",
    "# Путь к директории с исходными картинами\n",
    "train_dir = 'data/train'\n",
    "# Путь к директории для валидации\n",
    "validate_dir = 'data/validate'\n",
    "\n",
    "# Создаем директорию для валидации, если она не существует\n",
    "if not os.path.exists(validate_dir):\n",
    "    os.makedirs(validate_dir)\n",
    "\n",
    "# Получаем список всех файлов png в директории train\n",
    "train_images = [img for img in os.listdir(train_dir) if img.endswith('.png')]\n",
    "\n",
    "# Выбираем случайно ~10% изображений для перемещения\n",
    "num_to_move = max(1, len(train_images) // 10)  # Убедимся, что по крайней мере один файл будет выбран\n",
    "images_to_move = sample(train_images, num_to_move)\n",
    "\n",
    "# Перемещаем выбранные изображения в директорию validate\n",
    "for img in images_to_move:\n",
    "    shutil.move(os.path.join(train_dir, img), os.path.join(validate_dir, img))\n",
    "\n",
    "# Возвращаем количество перемещенных изображений и их имена для подтверждения\n",
    "num_moved_images = len(images_to_move)\n",
    "moved_images = images_to_move\n",
    "\n",
    "num_moved_images, moved_images\n"
   ]
  },
  {
   "cell_type": "markdown",
   "metadata": {},
   "source": [
    "# file classification"
   ]
  },
  {
   "cell_type": "code",
   "execution_count": 4,
   "metadata": {},
   "outputs": [],
   "source": [
    "import os\n",
    "import shutil\n",
    "\n",
    "# Ключевое слово для поиска\n",
    "keyword = 'mounty'\n",
    "\n",
    "# Путь к исходной папке с изображениями\n",
    "source_folder = 'data/train/'\n",
    "\n",
    "# Путь к целевой папке, куда будут перемещены изображения\n",
    "target_folder = os.path.join(source_folder, keyword)\n",
    "\n",
    "# Создаем целевую папку, если она еще не существует\n",
    "if not os.path.exists(target_folder):\n",
    "    os.makedirs(target_folder)\n",
    "\n",
    "# Перебираем файлы в исходной папке\n",
    "for filename in os.listdir(source_folder):\n",
    "    # Проверяем, содержит ли название файла ключевое слово\n",
    "    if keyword in filename.lower() and filename.endswith('.png'):\n",
    "        # Полный путь к файлу\n",
    "        source_path = os.path.join(source_folder, filename)\n",
    "        \n",
    "        # Полный путь к целевому местоположению файла\n",
    "        target_path = os.path.join(target_folder, filename)\n",
    "        \n",
    "        # Перемещаем файл\n",
    "        shutil.move(source_path, target_path)\n",
    "        print(f\"Файл {filename} перемещен в {target_folder}\")\n"
   ]
  }
 ],
 "metadata": {
  "kernelspec": {
   "display_name": "Python 3",
   "language": "python",
   "name": "python3"
  },
  "language_info": {
   "codemirror_mode": {
    "name": "ipython",
    "version": 3
   },
   "file_extension": ".py",
   "mimetype": "text/x-python",
   "name": "python",
   "nbconvert_exporter": "python",
   "pygments_lexer": "ipython3",
   "version": "3.12.0"
  }
 },
 "nbformat": 4,
 "nbformat_minor": 2
}
